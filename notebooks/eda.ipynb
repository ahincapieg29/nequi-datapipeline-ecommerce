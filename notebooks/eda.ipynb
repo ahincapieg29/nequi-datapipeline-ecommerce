{
 "cells": [
  {
   "cell_type": "markdown",
   "id": "1f9381c1",
   "metadata": {},
   "source": [
    "# 🧪 EDA con PySpark - Comportamiento de Usuarios en eCommerce\r\n",
    "\r\n",
    "Este cuaderno utiliza PySpark para realizar un análisis exploratorio de datos (EDA) sobre el archivo `2020-Apr.csv.gz`. Evaluaremos la calidad del dataset, incluyendo valores nulos, duplicados, y formatos erróneos, y documentaremos los pasos necesarios para su limpieza."
   ]
  },
  {
   "cell_type": "markdown",
   "id": "214173d1-c517-4e59-a705-178259f03bbf",
   "metadata": {},
   "source": [
    "## 1.📥 Carga de librerías y creación de sesión de Spark"
   ]
  },
  {
   "cell_type": "code",
   "execution_count": 1,
   "id": "07eb8bcf",
   "metadata": {},
   "outputs": [],
   "source": [
    "# Importamos PySpark y funciones necesarias\n",
    "from pyspark.sql import SparkSession\n",
    "from pyspark.sql.functions import col, isnan, when, count\n",
    "\n",
    "# Creamos una sesión de Spark para el análisis\n",
    "spark = SparkSession.builder \\\n",
    "    .appName(\"EDA_Advanced_eCommerce\") \\\n",
    "    .getOrCreate()"
   ]
  },
  {
   "cell_type": "markdown",
   "id": "dbf72f83-192b-451a-8bcc-274f41f3da5d",
   "metadata": {},
   "source": [
    "## 2.📂 Carga del conjunto de datos"
   ]
  },
  {
   "cell_type": "code",
   "execution_count": 3,
   "id": "e154c017",
   "metadata": {},
   "outputs": [
    {
     "name": "stdout",
     "output_type": "stream",
     "text": [
      "root\n",
      " |-- event_time: timestamp (nullable = true)\n",
      " |-- event_type: string (nullable = true)\n",
      " |-- product_id: integer (nullable = true)\n",
      " |-- category_id: long (nullable = true)\n",
      " |-- category_code: string (nullable = true)\n",
      " |-- brand: string (nullable = true)\n",
      " |-- price: double (nullable = true)\n",
      " |-- user_id: integer (nullable = true)\n",
      " |-- user_session: string (nullable = true)\n",
      "\n",
      "+-------------------+----------+----------+-------------------+--------------------+--------+-------+---------+--------------------+\n",
      "|         event_time|event_type|product_id|        category_id|       category_code|   brand|  price|  user_id|        user_session|\n",
      "+-------------------+----------+----------+-------------------+--------------------+--------+-------+---------+--------------------+\n",
      "|2020-03-31 19:00:00|      view|   1201465|2232732101407408685|apparel.shoes.sli...| samsung| 230.38|568984877|e2456cef-2d4f-42b...|\n",
      "|2020-03-31 19:00:01|      view|   1307156|2053013554658804075|electronics.audio...|   apple|1352.67|514955500|38f43134-de83-471...|\n",
      "|2020-03-31 19:00:01|      view|   1480477|2053013563835941749|appliances.kitche...|   apple|1184.05|633645770|16aba270-b3c2-4b2...|\n",
      "|2020-03-31 19:00:02|      view|   1307050|2053013554658804075|electronics.audio...|   apple|1724.34|564933778|05b443bd-e68a-4d7...|\n",
      "|2020-03-31 19:00:03|      view|   9500109|2232732104175649385|       apparel.scarf|defender|  25.05|530206135|e3c1fb4b-0a7e-457...|\n",
      "+-------------------+----------+----------+-------------------+--------------------+--------+-------+---------+--------------------+\n",
      "only showing top 5 rows\n",
      "\n"
     ]
    }
   ],
   "source": [
    "# Cargamos el archivo CSV comprimido, indicando encabezado y tipos inferidos\n",
    "df_full  = spark.read.csv(\"../data/raw/2020-Apr.csv.gz\", header=True, inferSchema=True)\n",
    "\n",
    "# Visualizamos el esquema del dataset\n",
    "df_full .printSchema()\n",
    "\n",
    "# Mostramos las primeras filas como vista rápida\n",
    "df_full .show(5)"
   ]
  },
  {
   "cell_type": "markdown",
   "id": "2f684d03-f08e-4724-9606-776bd79aac31",
   "metadata": {},
   "source": [
    "## 3.📉 Muestreo para el EDA"
   ]
  },
  {
   "cell_type": "code",
   "execution_count": 5,
   "id": "d6b2b2e6-d68b-4eb7-8777-8676b45b5da3",
   "metadata": {},
   "outputs": [
    {
     "name": "stdout",
     "output_type": "stream",
     "text": [
      "Total registros muestreados: 1531767\n"
     ]
    }
   ],
   "source": [
    "# Por rendimiento, tomamos una muestra de aproximadamente 1.5 millones de registros\n",
    "df = df_full.sample(withReplacement=False, fraction=0.023, seed=42)\n",
    "\n",
    "print(f\"Total registros muestreados: {df.count()}\")"
   ]
  },
  {
   "cell_type": "code",
   "execution_count": 6,
   "id": "dce21dd6-87a7-4cab-bf9a-f73e85e6cf21",
   "metadata": {},
   "outputs": [],
   "source": [
    "# Eliminar DataFrames temporales para liberar memoria\n",
    "del df_full"
   ]
  },
  {
   "cell_type": "markdown",
   "id": "10bf7cba-26bf-4870-b54a-30c33a097646",
   "metadata": {},
   "source": [
    "## 4.📏 Verificación de dimensiones y estructura"
   ]
  },
  {
   "cell_type": "code",
   "execution_count": 22,
   "id": "9c57f91f-7a1d-4093-9e80-6e737755b7f3",
   "metadata": {},
   "outputs": [
    {
     "name": "stdout",
     "output_type": "stream",
     "text": [
      "Número de registros: 1531767\n",
      "Número de columnas: 9\n",
      "Columnas disponibles: ['event_time', 'event_type', 'product_id', 'category_id', 'category_code', 'brand', 'price', 'user_id', 'user_session']\n",
      "root\n",
      " |-- event_time: timestamp (nullable = true)\n",
      " |-- event_type: string (nullable = true)\n",
      " |-- product_id: integer (nullable = true)\n",
      " |-- category_id: long (nullable = true)\n",
      " |-- category_code: string (nullable = true)\n",
      " |-- brand: string (nullable = true)\n",
      " |-- price: double (nullable = true)\n",
      " |-- user_id: integer (nullable = true)\n",
      " |-- user_session: string (nullable = true)\n",
      "\n",
      "+-------------------+----------+----------+-------------------+--------------------+------+-------+---------+--------------------+\n",
      "|         event_time|event_type|product_id|        category_id|       category_code| brand|  price|  user_id|        user_session|\n",
      "+-------------------+----------+----------+-------------------+--------------------+------+-------+---------+--------------------+\n",
      "|2020-03-31 19:00:11|      view|   1307284|2053013554658804075|electronics.audio...|    hp|1376.87|567908086|b2ea0c25-1f3c-429...|\n",
      "|2020-03-31 19:00:40|      cart|   5100328|2232732103101907535|  electronics.clocks|xiaomi| 117.12|635164513|c40d1b96-90aa-4ce...|\n",
      "|2020-03-31 19:00:42|      view|   1802011|2232732099754852875|appliances.person...| yasin| 230.71|595290761|65b157d0-727b-492...|\n",
      "|2020-03-31 19:01:04|      cart|   4100369|2232732098228126185|       apparel.shoes|  sony|  540.3|635165471|c6ce1b9b-19d1-429...|\n",
      "|2020-03-31 19:01:08|      view|   1005288|2232732093077520756|construction.tool...|xiaomi| 262.56|532575111|d25af1c5-cd20-445...|\n",
      "+-------------------+----------+----------+-------------------+--------------------+------+-------+---------+--------------------+\n",
      "only showing top 5 rows\n",
      "\n"
     ]
    }
   ],
   "source": [
    "# Verificar dimensiones\n",
    "print(f\"Número de registros: {df.count()}\")\n",
    "print(f\"Número de columnas: {len(df.columns)}\")\n",
    "print(\"Columnas disponibles:\", df.columns)\n",
    "\n",
    "# Visualización del esquema\n",
    "df.printSchema()\n",
    "\n",
    "# Vista rápida de los primeros registros\n",
    "df.show(5)"
   ]
  },
  {
   "cell_type": "markdown",
   "id": "abed019f-6cbd-4bba-a035-47972703d0d3",
   "metadata": {},
   "source": [
    "## 5. 💵 Estadísticas Generales de Precio"
   ]
  },
  {
   "cell_type": "code",
   "execution_count": null,
   "id": "89230c02-652a-496f-b453-2ebfb2fabffe",
   "metadata": {},
   "outputs": [],
   "source": [
    "# Estadísticas descriptivas de la columna price\n",
    "df.describe([\"price\"]).show()"
   ]
  },
  {
   "cell_type": "markdown",
   "id": "0c34dfd3-9f46-4619-a748-1721031ed665",
   "metadata": {},
   "source": [
    "## 6. 🚨 Análisis de calidad de datos"
   ]
  },
  {
   "cell_type": "markdown",
   "id": "84e357b1-5d44-4087-b8b1-6dd3a34db1fe",
   "metadata": {},
   "source": [
    "### 📌 A. Conteo de valores nulos por columna"
   ]
  },
  {
   "cell_type": "code",
   "execution_count": null,
   "id": "3025ecbf-e2a3-4769-acc0-20124a817bb6",
   "metadata": {},
   "outputs": [],
   "source": [
    "# Contar valores nulos o NaN por columna\n",
    "df.select([\n",
    "    count(when(col(c).isNull() | isnan(c), c)).alias(c)\n",
    "    for c in df.columns\n",
    "]).show(truncate=False)"
   ]
  },
  {
   "cell_type": "markdown",
   "id": "8e141aec-142b-4a57-b3d3-9f5858cc883b",
   "metadata": {},
   "source": [
    "### 📌 B. Verificación de duplicados"
   ]
  },
  {
   "cell_type": "code",
   "execution_count": null,
   "id": "83b3a834-a324-4b19-bdcd-11f2352bdeef",
   "metadata": {},
   "outputs": [],
   "source": [
    "# Comparar conteo total con registros únicos\n",
    "total_registros = df.count()\n",
    "registros_sin_duplicados = df.dropDuplicates().count()\n",
    "duplicados = total_registros - registros_sin_duplicados\n",
    "\n",
    "print(f\"🔁 Duplicados detectados: {duplicados}\")"
   ]
  },
  {
   "cell_type": "markdown",
   "id": "1cbaa0bb-d6e2-4790-a728-4340b80a94a8",
   "metadata": {},
   "source": [
    "### 📌 C. Conteo de valores únicos por columna"
   ]
  },
  {
   "cell_type": "code",
   "execution_count": null,
   "id": "da24a336-60b4-4f08-a49b-820eb114de3d",
   "metadata": {},
   "outputs": [],
   "source": [
    "# Recuento de valores únicos por columna\n",
    "for columna in df.columns:\n",
    "    print(f\"🔍 Valores únicos en '{columna}': {df.select(columna).distinct().count()}\")"
   ]
  },
  {
   "cell_type": "markdown",
   "id": "2c80d009-9a01-4f36-8707-ed260093abf6",
   "metadata": {},
   "source": [
    "### 📌 D. Distribución de tipos de eventos"
   ]
  },
  {
   "cell_type": "code",
   "execution_count": null,
   "id": "ca292d96-74eb-44a4-8b83-1853547e97fc",
   "metadata": {},
   "outputs": [],
   "source": []
  },
  {
   "cell_type": "code",
   "execution_count": null,
   "id": "098a16b4-4e7b-4576-b2fa-53bc2786e319",
   "metadata": {},
   "outputs": [],
   "source": []
  },
  {
   "cell_type": "code",
   "execution_count": null,
   "id": "bbf4cf05-ddce-4ecf-bae0-e393045b810c",
   "metadata": {},
   "outputs": [],
   "source": []
  },
  {
   "cell_type": "code",
   "execution_count": null,
   "id": "f1957c50-7279-4c42-be9f-3887ac09b466",
   "metadata": {},
   "outputs": [],
   "source": []
  }
 ],
 "metadata": {
  "kernelspec": {
   "display_name": "Python 3 (ipykernel)",
   "language": "python",
   "name": "python3"
  },
  "language_info": {
   "codemirror_mode": {
    "name": "ipython",
    "version": 3
   },
   "file_extension": ".py",
   "mimetype": "text/x-python",
   "name": "python",
   "nbconvert_exporter": "python",
   "pygments_lexer": "ipython3",
   "version": "3.12.4"
  }
 },
 "nbformat": 4,
 "nbformat_minor": 5
}
